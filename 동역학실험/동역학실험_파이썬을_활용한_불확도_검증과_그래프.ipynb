{
  "nbformat": 4,
  "nbformat_minor": 0,
  "metadata": {
    "colab": {
      "provenance": [],
      "authorship_tag": "ABX9TyPOP6c2U7wCzXteHuYbxSwS",
      "include_colab_link": true
    },
    "kernelspec": {
      "name": "python3",
      "display_name": "Python 3"
    },
    "language_info": {
      "name": "python"
    }
  },
  "cells": [
    {
      "cell_type": "markdown",
      "metadata": {
        "id": "view-in-github",
        "colab_type": "text"
      },
      "source": [
        "<a href=\"https://colab.research.google.com/github/Chanwoochan/2023MechanicalEngineeringExperimentDesign/blob/main/%EB%8F%99%EC%97%AD%ED%95%99%EC%8B%A4%ED%97%98/%EB%8F%99%EC%97%AD%ED%95%99%EC%8B%A4%ED%97%98_%ED%8C%8C%EC%9D%B4%EC%8D%AC%EC%9D%84_%ED%99%9C%EC%9A%A9%ED%95%9C_%EB%B6%88%ED%99%95%EB%8F%84_%EA%B2%80%EC%A6%9D%EA%B3%BC_%EA%B7%B8%EB%9E%98%ED%94%84.ipynb\" target=\"_parent\"><img src=\"https://colab.research.google.com/assets/colab-badge.svg\" alt=\"Open In Colab\"/></a>"
      ]
    },
    {
      "cell_type": "code",
      "execution_count": null,
      "metadata": {
        "colab": {
          "base_uri": "https://localhost:8080/"
        },
        "id": "Z64TAixxijsc",
        "outputId": "cdb3f37b-d4f0-4861-a7c1-2322bdb04635"
      },
      "outputs": [
        {
          "output_type": "stream",
          "name": "stdout",
          "text": [
            "Collecting uncertainties\n",
            "  Downloading uncertainties-3.1.7-py2.py3-none-any.whl (98 kB)\n",
            "\u001b[?25l     \u001b[90m━━━━━━━━━━━━━━━━━━━━━━━━━━━━━━━━━━━━━━━━\u001b[0m \u001b[32m0.0/98.4 kB\u001b[0m \u001b[31m?\u001b[0m eta \u001b[36m-:--:--\u001b[0m\r\u001b[2K     \u001b[91m━━━━━━━━━━━━━━━━━━━━━━━━━━━━━━━━━━━━━\u001b[0m\u001b[90m╺\u001b[0m\u001b[90m━━\u001b[0m \u001b[32m92.2/98.4 kB\u001b[0m \u001b[31m2.7 MB/s\u001b[0m eta \u001b[36m0:00:01\u001b[0m\r\u001b[2K     \u001b[90m━━━━━━━━━━━━━━━━━━━━━━━━━━━━━━━━━━━━━━━━\u001b[0m \u001b[32m98.4/98.4 kB\u001b[0m \u001b[31m2.1 MB/s\u001b[0m eta \u001b[36m0:00:00\u001b[0m\n",
            "\u001b[?25hRequirement already satisfied: future in /usr/local/lib/python3.10/dist-packages (from uncertainties) (0.18.3)\n",
            "Installing collected packages: uncertainties\n",
            "Successfully installed uncertainties-3.1.7\n"
          ]
        }
      ],
      "source": [
        "pip install uncertainties"
      ]
    },
    {
      "cell_type": "code",
      "source": [
        "from uncertainties import ufloat # 불확도 계산 패키지\n",
        "from math import pi\n",
        "import numpy\n",
        "import matplotlib.pyplot as plt"
      ],
      "metadata": {
        "id": "y734N1lei4ue"
      },
      "execution_count": null,
      "outputs": []
    },
    {
      "cell_type": "code",
      "source": [
        "T = ufloat(1.39,0.035) # 주기 s\n",
        "g = 9.81 # 중력가속도 m/s^2\n",
        "x = g * T**2 / (4 * pi**2) #스위트스팟의 중앙값과 불확도 계산 m\n",
        "per = x.s/x.n *100 #스위트스팟의 불확도를 퍼센트로 변환\n",
        "x, per # x=스위트스팟의 중앙값과 불확도, per=퍼센트불확도"
      ],
      "metadata": {
        "colab": {
          "base_uri": "https://localhost:8080/"
        },
        "id": "3h1AlKN5is-B",
        "outputId": "cf2fbfc2-6cb4-46dc-f182-77d70b37494f"
      },
      "execution_count": null,
      "outputs": [
        {
          "output_type": "execute_result",
          "data": {
            "text/plain": [
              "(0.4801079209899224+/-0.024178096740499692, 5.035971223021583)"
            ]
          },
          "metadata": {},
          "execution_count": 35
        }
      ]
    },
    {
      "cell_type": "code",
      "source": [
        "x = numpy.array([39.5, 43.5, 47.5, 51.5])\n",
        "h = numpy.array([20.4, 28.2, 35.2, 33.6])\n",
        "xe = numpy.array([0.05, 0.05, 0.05, 0.05])\n",
        "he = numpy.array([1.2, 0.71, 0.57, 0.73])\n",
        "plt.figure(figsize=[6,4])\n",
        "plt.errorbar(x, h, xerr=xe, yerr= h * he/100, fmt=\"bo\", markersize=5, elinewidth=0.5, capsize=2)\n",
        "plt.xlabel(\"impulse spot, x (cm)\")\n",
        "plt.ylabel(\"ball height, h (cm)\")\n",
        "#X=numpy.arange(36,49,0.01)\n",
        "#Y1=1.85*X-52.542\n",
        "#plt.plot(X,Y1,\"--\")\n",
        "#X=numpy.arange(49,52,0.01)\n",
        "#Y2=-1.85*X+128.875\n",
        "#plt.plot(X,Y2, \"--\")\n",
        "#plt.plot(49.03,38.16,\"ro\")\n",
        "plt.show()"
      ],
      "metadata": {
        "colab": {
          "base_uri": "https://localhost:8080/",
          "height": 390
        },
        "id": "Z2k-7GWjeNsl",
        "outputId": "b0f545bf-5d7c-4ad5-a938-160cc1192bbc"
      },
      "execution_count": 53,
      "outputs": [
        {
          "output_type": "display_data",
          "data": {
            "text/plain": [
              "<Figure size 600x400 with 1 Axes>"
            ],
            "image/png": "[encoded data removed]"
          },
          "metadata": {}
        }
      ]
    }
  ]
}